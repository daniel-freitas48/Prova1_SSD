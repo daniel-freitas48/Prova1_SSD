{
  "nbformat": 4,
  "nbformat_minor": 0,
  "metadata": {
    "colab": {
      "provenance": [],
      "authorship_tag": "ABX9TyOeUlKk2PKlIizdE1m2CtSy",
      "include_colab_link": true
    },
    "kernelspec": {
      "name": "python3",
      "display_name": "Python 3"
    },
    "language_info": {
      "name": "python"
    }
  },
  "cells": [
    {
      "cell_type": "markdown",
      "metadata": {
        "id": "view-in-github",
        "colab_type": "text"
      },
      "source": [
        "<a href=\"https://colab.research.google.com/github/daniel-freitas48/Prova1_SSD/blob/main/Prova1_SSD.ipynb\" target=\"_parent\"><img src=\"https://colab.research.google.com/assets/colab-badge.svg\" alt=\"Open In Colab\"/></a>"
      ]
    },
    {
      "cell_type": "markdown",
      "source": [
        "# **Prova 1 - Sistemas de Suporte à Decisão**\n",
        "\n",
        "## **Desenvolvimento de MVP**\n",
        "\n",
        "Aluno: Daniel Cruz de Freitas\n",
        "\n",
        "Matrícula: 180099515\n",
        "\n",
        "\n",
        "Professor: André Serrano"
      ],
      "metadata": {
        "id": "FDqSo0qu0FqC"
      }
    },
    {
      "cell_type": "markdown",
      "source": [
        "# **1. Contexto (Baseado nas informações de DataSet do Kaggle)**\n",
        "\n",
        "Anti-phishing refere-se a esforços para bloquear ataques de phishing. Nesse tipo de cibercrime, atacantes se passam por entidades conhecidas ou confiáveis e contatam indivíduos (e-mail, SMS, telefone) solicitando informações sensíveis.\n",
        "\n",
        "A base está disponível em: https://www.kaggle.com/datasets/shashwatwork/phishing-dataset-for-machine-learning/data\n"
      ],
      "metadata": {
        "id": "1cDS-GZf10jM"
      }
    },
    {
      "cell_type": "markdown",
      "source": [
        "# Objetivos\n",
        "\n",
        "Desenvolver e comparar modelos clássicos de Machine Learning para classificar páginas como phishing ou legítimas, utilizando as 48 features disponibilizadas. Serão avaliados diferentes algoritmos e estratégias de pré-processamento, com divisão de treino/teste, validação cruzada e ajuste de hiperparâmetros, finalizando com comparação de métricas e análise crítica.\n",
        "\n",
        "\n",
        "## Quais restrições ou condições foram impostas para selecionar os dados?\n",
        "\n",
        "As únicas restrições foram de que a base deveria se ruma base disponível em sites com datasets confiáveis e já validados, e que deveria ser utilizada a temática de CiberCrimes/CiberSegurança\n",
        "\n"
      ],
      "metadata": {
        "id": "UdXoZbed2OKJ"
      }
    },
    {
      "cell_type": "markdown",
      "source": [
        "# **2. Preparação dos Dados**\n",
        "\n",
        "O objetivo desta fase é preparar o conjunto de dados para o treinamento dos modelos. As etapas incluem:\n",
        "\n",
        "\n",
        "\n",
        "*   inspeção inicial e análise exploratória,\n",
        "*   tratamento de valores ausentes ou inconsistentes,\n",
        "*   normalização/padronização das variáveis,\n",
        "*   divisão entre conjuntos de treino e teste,\n",
        "*   verificação da proporcionalidade das classes (balanceamento).\n",
        "\n",
        "\n",
        "---\n",
        "\n",
        "\n",
        "\n",
        "**Informações sobre os dados:** O dataset contém 10 000 instâncias e 48 features numéricas já extraídas do conteúdo das páginas.\n",
        "\n",
        "Cada linha representa um website (legítimo ou phishing), e a variável Result é a variável-alvo:\n",
        "\n",
        "\n",
        "\n",
        "*   1 ➡ phishing ❌\n",
        "*   -1 ➡  legítimo ✅\n",
        "\n",
        "\n",
        "\n",
        "\n",
        "\n",
        "\n"
      ],
      "metadata": {
        "id": "uWOlkXeJ3JaL"
      }
    },
    {
      "cell_type": "markdown",
      "source": [
        "\n",
        "# **Carregamento e inspeção inicial**\n",
        "\n",
        "\n",
        "\n",
        "\n",
        "\n"
      ],
      "metadata": {
        "id": "qaSewJ5z5CbY"
      }
    },
    {
      "cell_type": "code",
      "execution_count": null,
      "metadata": {
        "colab": {
          "base_uri": "https://localhost:8080/"
        },
        "id": "V-RzVfaszzA7",
        "outputId": "77f12669-2274-4c21-9dff-962c3615d023"
      },
      "outputs": [
        {
          "output_type": "stream",
          "name": "stdout",
          "text": [
            "Using Colab cache for faster access to the 'phishing-dataset-for-machine-learning' dataset.\n",
            "Path to dataset files: /kaggle/input/phishing-dataset-for-machine-learning\n",
            "['Phishing_Legitimate_full.csv']\n"
          ]
        }
      ],
      "source": [
        "#Importar as principais bibliotecas que serão utilizadas\n",
        "\n",
        "import pandas as pd\n",
        "import numpy as np\n",
        "import seaborn as sns\n",
        "import matplotlib.pyplot as plt\n",
        "\n",
        "#Baixar o dataset via kagglehub API\n",
        "\n",
        "import kagglehub\n",
        "path = kagglehub.dataset_download(\"shashwatwork/phishing-dataset-for-machine-learning\")\n",
        "\n",
        "\n",
        "print(\"Path to dataset files:\", path)\n",
        "\n",
        "import os\n",
        "\n",
        "#Listar arquivos na pasta\n",
        "\n",
        "print(os.listdir(path))"
      ]
    },
    {
      "cell_type": "code",
      "source": [
        "#Carregar o dataset\n",
        "\n",
        "df = pd.read_csv(f\"{path}/Phishing_Legitimate_full.csv\")\n",
        "\n",
        "#Exibir as primeiras linhas\n",
        "\n",
        "print(\"Formato do dataset:\", df.shape)\n",
        "df.head()\n"
      ],
      "metadata": {
        "colab": {
          "base_uri": "https://localhost:8080/",
          "height": 273
        },
        "id": "cDuHqBSl6q1H",
        "outputId": "86d46c42-15c9-49d9-b062-9e4728cda589"
      },
      "execution_count": null,
      "outputs": [
        {
          "output_type": "stream",
          "name": "stdout",
          "text": [
            "Formato do dataset: (10000, 50)\n"
          ]
        },
        {
          "output_type": "execute_result",
          "data": {
            "text/plain": [
              "   id  NumDots  SubdomainLevel  PathLevel  UrlLength  NumDash  \\\n",
              "0   1        3               1          5         72        0   \n",
              "1   2        3               1          3        144        0   \n",
              "2   3        3               1          2         58        0   \n",
              "3   4        3               1          6         79        1   \n",
              "4   5        3               0          4         46        0   \n",
              "\n",
              "   NumDashInHostname  AtSymbol  TildeSymbol  NumUnderscore  ...  \\\n",
              "0                  0         0            0              0  ...   \n",
              "1                  0         0            0              2  ...   \n",
              "2                  0         0            0              0  ...   \n",
              "3                  0         0            0              0  ...   \n",
              "4                  0         0            0              0  ...   \n",
              "\n",
              "   IframeOrFrame  MissingTitle  ImagesOnlyInForm  SubdomainLevelRT  \\\n",
              "0              0             0                 1                 1   \n",
              "1              0             0                 0                 1   \n",
              "2              0             0                 0                 1   \n",
              "3              0             0                 0                 1   \n",
              "4              1             0                 0                 1   \n",
              "\n",
              "   UrlLengthRT  PctExtResourceUrlsRT  AbnormalExtFormActionR  \\\n",
              "0            0                     1                       1   \n",
              "1           -1                     1                       1   \n",
              "2            0                    -1                       1   \n",
              "3           -1                     1                       1   \n",
              "4            1                    -1                       0   \n",
              "\n",
              "   ExtMetaScriptLinkRT  PctExtNullSelfRedirectHyperlinksRT  CLASS_LABEL  \n",
              "0                   -1                                   1            1  \n",
              "1                    1                                   1            1  \n",
              "2                   -1                                   0            1  \n",
              "3                    1                                  -1            1  \n",
              "4                   -1                                  -1            1  \n",
              "\n",
              "[5 rows x 50 columns]"
            ],
            "text/html": [
              "\n",
              "  <div id=\"df-71104a85-909a-430d-99d3-7400fc3557da\" class=\"colab-df-container\">\n",
              "    <div>\n",
              "<style scoped>\n",
              "    .dataframe tbody tr th:only-of-type {\n",
              "        vertical-align: middle;\n",
              "    }\n",
              "\n",
              "    .dataframe tbody tr th {\n",
              "        vertical-align: top;\n",
              "    }\n",
              "\n",
              "    .dataframe thead th {\n",
              "        text-align: right;\n",
              "    }\n",
              "</style>\n",
              "<table border=\"1\" class=\"dataframe\">\n",
              "  <thead>\n",
              "    <tr style=\"text-align: right;\">\n",
              "      <th></th>\n",
              "      <th>id</th>\n",
              "      <th>NumDots</th>\n",
              "      <th>SubdomainLevel</th>\n",
              "      <th>PathLevel</th>\n",
              "      <th>UrlLength</th>\n",
              "      <th>NumDash</th>\n",
              "      <th>NumDashInHostname</th>\n",
              "      <th>AtSymbol</th>\n",
              "      <th>TildeSymbol</th>\n",
              "      <th>NumUnderscore</th>\n",
              "      <th>...</th>\n",
              "      <th>IframeOrFrame</th>\n",
              "      <th>MissingTitle</th>\n",
              "      <th>ImagesOnlyInForm</th>\n",
              "      <th>SubdomainLevelRT</th>\n",
              "      <th>UrlLengthRT</th>\n",
              "      <th>PctExtResourceUrlsRT</th>\n",
              "      <th>AbnormalExtFormActionR</th>\n",
              "      <th>ExtMetaScriptLinkRT</th>\n",
              "      <th>PctExtNullSelfRedirectHyperlinksRT</th>\n",
              "      <th>CLASS_LABEL</th>\n",
              "    </tr>\n",
              "  </thead>\n",
              "  <tbody>\n",
              "    <tr>\n",
              "      <th>0</th>\n",
              "      <td>1</td>\n",
              "      <td>3</td>\n",
              "      <td>1</td>\n",
              "      <td>5</td>\n",
              "      <td>72</td>\n",
              "      <td>0</td>\n",
              "      <td>0</td>\n",
              "      <td>0</td>\n",
              "      <td>0</td>\n",
              "      <td>0</td>\n",
              "      <td>...</td>\n",
              "      <td>0</td>\n",
              "      <td>0</td>\n",
              "      <td>1</td>\n",
              "      <td>1</td>\n",
              "      <td>0</td>\n",
              "      <td>1</td>\n",
              "      <td>1</td>\n",
              "      <td>-1</td>\n",
              "      <td>1</td>\n",
              "      <td>1</td>\n",
              "    </tr>\n",
              "    <tr>\n",
              "      <th>1</th>\n",
              "      <td>2</td>\n",
              "      <td>3</td>\n",
              "      <td>1</td>\n",
              "      <td>3</td>\n",
              "      <td>144</td>\n",
              "      <td>0</td>\n",
              "      <td>0</td>\n",
              "      <td>0</td>\n",
              "      <td>0</td>\n",
              "      <td>2</td>\n",
              "      <td>...</td>\n",
              "      <td>0</td>\n",
              "      <td>0</td>\n",
              "      <td>0</td>\n",
              "      <td>1</td>\n",
              "      <td>-1</td>\n",
              "      <td>1</td>\n",
              "      <td>1</td>\n",
              "      <td>1</td>\n",
              "      <td>1</td>\n",
              "      <td>1</td>\n",
              "    </tr>\n",
              "    <tr>\n",
              "      <th>2</th>\n",
              "      <td>3</td>\n",
              "      <td>3</td>\n",
              "      <td>1</td>\n",
              "      <td>2</td>\n",
              "      <td>58</td>\n",
              "      <td>0</td>\n",
              "      <td>0</td>\n",
              "      <td>0</td>\n",
              "      <td>0</td>\n",
              "      <td>0</td>\n",
              "      <td>...</td>\n",
              "      <td>0</td>\n",
              "      <td>0</td>\n",
              "      <td>0</td>\n",
              "      <td>1</td>\n",
              "      <td>0</td>\n",
              "      <td>-1</td>\n",
              "      <td>1</td>\n",
              "      <td>-1</td>\n",
              "      <td>0</td>\n",
              "      <td>1</td>\n",
              "    </tr>\n",
              "    <tr>\n",
              "      <th>3</th>\n",
              "      <td>4</td>\n",
              "      <td>3</td>\n",
              "      <td>1</td>\n",
              "      <td>6</td>\n",
              "      <td>79</td>\n",
              "      <td>1</td>\n",
              "      <td>0</td>\n",
              "      <td>0</td>\n",
              "      <td>0</td>\n",
              "      <td>0</td>\n",
              "      <td>...</td>\n",
              "      <td>0</td>\n",
              "      <td>0</td>\n",
              "      <td>0</td>\n",
              "      <td>1</td>\n",
              "      <td>-1</td>\n",
              "      <td>1</td>\n",
              "      <td>1</td>\n",
              "      <td>1</td>\n",
              "      <td>-1</td>\n",
              "      <td>1</td>\n",
              "    </tr>\n",
              "    <tr>\n",
              "      <th>4</th>\n",
              "      <td>5</td>\n",
              "      <td>3</td>\n",
              "      <td>0</td>\n",
              "      <td>4</td>\n",
              "      <td>46</td>\n",
              "      <td>0</td>\n",
              "      <td>0</td>\n",
              "      <td>0</td>\n",
              "      <td>0</td>\n",
              "      <td>0</td>\n",
              "      <td>...</td>\n",
              "      <td>1</td>\n",
              "      <td>0</td>\n",
              "      <td>0</td>\n",
              "      <td>1</td>\n",
              "      <td>1</td>\n",
              "      <td>-1</td>\n",
              "      <td>0</td>\n",
              "      <td>-1</td>\n",
              "      <td>-1</td>\n",
              "      <td>1</td>\n",
              "    </tr>\n",
              "  </tbody>\n",
              "</table>\n",
              "<p>5 rows × 50 columns</p>\n",
              "</div>\n",
              "    <div class=\"colab-df-buttons\">\n",
              "\n",
              "  <div class=\"colab-df-container\">\n",
              "    <button class=\"colab-df-convert\" onclick=\"convertToInteractive('df-71104a85-909a-430d-99d3-7400fc3557da')\"\n",
              "            title=\"Convert this dataframe to an interactive table.\"\n",
              "            style=\"display:none;\">\n",
              "\n",
              "  <svg xmlns=\"http://www.w3.org/2000/svg\" height=\"24px\" viewBox=\"0 -960 960 960\">\n",
              "    <path d=\"M120-120v-720h720v720H120Zm60-500h600v-160H180v160Zm220 220h160v-160H400v160Zm0 220h160v-160H400v160ZM180-400h160v-160H180v160Zm440 0h160v-160H620v160ZM180-180h160v-160H180v160Zm440 0h160v-160H620v160Z\"/>\n",
              "  </svg>\n",
              "    </button>\n",
              "\n",
              "  <style>\n",
              "    .colab-df-container {\n",
              "      display:flex;\n",
              "      gap: 12px;\n",
              "    }\n",
              "\n",
              "    .colab-df-convert {\n",
              "      background-color: #E8F0FE;\n",
              "      border: none;\n",
              "      border-radius: 50%;\n",
              "      cursor: pointer;\n",
              "      display: none;\n",
              "      fill: #1967D2;\n",
              "      height: 32px;\n",
              "      padding: 0 0 0 0;\n",
              "      width: 32px;\n",
              "    }\n",
              "\n",
              "    .colab-df-convert:hover {\n",
              "      background-color: #E2EBFA;\n",
              "      box-shadow: 0px 1px 2px rgba(60, 64, 67, 0.3), 0px 1px 3px 1px rgba(60, 64, 67, 0.15);\n",
              "      fill: #174EA6;\n",
              "    }\n",
              "\n",
              "    .colab-df-buttons div {\n",
              "      margin-bottom: 4px;\n",
              "    }\n",
              "\n",
              "    [theme=dark] .colab-df-convert {\n",
              "      background-color: #3B4455;\n",
              "      fill: #D2E3FC;\n",
              "    }\n",
              "\n",
              "    [theme=dark] .colab-df-convert:hover {\n",
              "      background-color: #434B5C;\n",
              "      box-shadow: 0px 1px 3px 1px rgba(0, 0, 0, 0.15);\n",
              "      filter: drop-shadow(0px 1px 2px rgba(0, 0, 0, 0.3));\n",
              "      fill: #FFFFFF;\n",
              "    }\n",
              "  </style>\n",
              "\n",
              "    <script>\n",
              "      const buttonEl =\n",
              "        document.querySelector('#df-71104a85-909a-430d-99d3-7400fc3557da button.colab-df-convert');\n",
              "      buttonEl.style.display =\n",
              "        google.colab.kernel.accessAllowed ? 'block' : 'none';\n",
              "\n",
              "      async function convertToInteractive(key) {\n",
              "        const element = document.querySelector('#df-71104a85-909a-430d-99d3-7400fc3557da');\n",
              "        const dataTable =\n",
              "          await google.colab.kernel.invokeFunction('convertToInteractive',\n",
              "                                                    [key], {});\n",
              "        if (!dataTable) return;\n",
              "\n",
              "        const docLinkHtml = 'Like what you see? Visit the ' +\n",
              "          '<a target=\"_blank\" href=https://colab.research.google.com/notebooks/data_table.ipynb>data table notebook</a>'\n",
              "          + ' to learn more about interactive tables.';\n",
              "        element.innerHTML = '';\n",
              "        dataTable['output_type'] = 'display_data';\n",
              "        await google.colab.output.renderOutput(dataTable, element);\n",
              "        const docLink = document.createElement('div');\n",
              "        docLink.innerHTML = docLinkHtml;\n",
              "        element.appendChild(docLink);\n",
              "      }\n",
              "    </script>\n",
              "  </div>\n",
              "\n",
              "\n",
              "    <div id=\"df-2ee3c1fb-c77a-4e66-bdba-eb613b909d6b\">\n",
              "      <button class=\"colab-df-quickchart\" onclick=\"quickchart('df-2ee3c1fb-c77a-4e66-bdba-eb613b909d6b')\"\n",
              "                title=\"Suggest charts\"\n",
              "                style=\"display:none;\">\n",
              "\n",
              "<svg xmlns=\"http://www.w3.org/2000/svg\" height=\"24px\"viewBox=\"0 0 24 24\"\n",
              "     width=\"24px\">\n",
              "    <g>\n",
              "        <path d=\"M19 3H5c-1.1 0-2 .9-2 2v14c0 1.1.9 2 2 2h14c1.1 0 2-.9 2-2V5c0-1.1-.9-2-2-2zM9 17H7v-7h2v7zm4 0h-2V7h2v10zm4 0h-2v-4h2v4z\"/>\n",
              "    </g>\n",
              "</svg>\n",
              "      </button>\n",
              "\n",
              "<style>\n",
              "  .colab-df-quickchart {\n",
              "      --bg-color: #E8F0FE;\n",
              "      --fill-color: #1967D2;\n",
              "      --hover-bg-color: #E2EBFA;\n",
              "      --hover-fill-color: #174EA6;\n",
              "      --disabled-fill-color: #AAA;\n",
              "      --disabled-bg-color: #DDD;\n",
              "  }\n",
              "\n",
              "  [theme=dark] .colab-df-quickchart {\n",
              "      --bg-color: #3B4455;\n",
              "      --fill-color: #D2E3FC;\n",
              "      --hover-bg-color: #434B5C;\n",
              "      --hover-fill-color: #FFFFFF;\n",
              "      --disabled-bg-color: #3B4455;\n",
              "      --disabled-fill-color: #666;\n",
              "  }\n",
              "\n",
              "  .colab-df-quickchart {\n",
              "    background-color: var(--bg-color);\n",
              "    border: none;\n",
              "    border-radius: 50%;\n",
              "    cursor: pointer;\n",
              "    display: none;\n",
              "    fill: var(--fill-color);\n",
              "    height: 32px;\n",
              "    padding: 0;\n",
              "    width: 32px;\n",
              "  }\n",
              "\n",
              "  .colab-df-quickchart:hover {\n",
              "    background-color: var(--hover-bg-color);\n",
              "    box-shadow: 0 1px 2px rgba(60, 64, 67, 0.3), 0 1px 3px 1px rgba(60, 64, 67, 0.15);\n",
              "    fill: var(--button-hover-fill-color);\n",
              "  }\n",
              "\n",
              "  .colab-df-quickchart-complete:disabled,\n",
              "  .colab-df-quickchart-complete:disabled:hover {\n",
              "    background-color: var(--disabled-bg-color);\n",
              "    fill: var(--disabled-fill-color);\n",
              "    box-shadow: none;\n",
              "  }\n",
              "\n",
              "  .colab-df-spinner {\n",
              "    border: 2px solid var(--fill-color);\n",
              "    border-color: transparent;\n",
              "    border-bottom-color: var(--fill-color);\n",
              "    animation:\n",
              "      spin 1s steps(1) infinite;\n",
              "  }\n",
              "\n",
              "  @keyframes spin {\n",
              "    0% {\n",
              "      border-color: transparent;\n",
              "      border-bottom-color: var(--fill-color);\n",
              "      border-left-color: var(--fill-color);\n",
              "    }\n",
              "    20% {\n",
              "      border-color: transparent;\n",
              "      border-left-color: var(--fill-color);\n",
              "      border-top-color: var(--fill-color);\n",
              "    }\n",
              "    30% {\n",
              "      border-color: transparent;\n",
              "      border-left-color: var(--fill-color);\n",
              "      border-top-color: var(--fill-color);\n",
              "      border-right-color: var(--fill-color);\n",
              "    }\n",
              "    40% {\n",
              "      border-color: transparent;\n",
              "      border-right-color: var(--fill-color);\n",
              "      border-top-color: var(--fill-color);\n",
              "    }\n",
              "    60% {\n",
              "      border-color: transparent;\n",
              "      border-right-color: var(--fill-color);\n",
              "    }\n",
              "    80% {\n",
              "      border-color: transparent;\n",
              "      border-right-color: var(--fill-color);\n",
              "      border-bottom-color: var(--fill-color);\n",
              "    }\n",
              "    90% {\n",
              "      border-color: transparent;\n",
              "      border-bottom-color: var(--fill-color);\n",
              "    }\n",
              "  }\n",
              "</style>\n",
              "\n",
              "      <script>\n",
              "        async function quickchart(key) {\n",
              "          const quickchartButtonEl =\n",
              "            document.querySelector('#' + key + ' button');\n",
              "          quickchartButtonEl.disabled = true;  // To prevent multiple clicks.\n",
              "          quickchartButtonEl.classList.add('colab-df-spinner');\n",
              "          try {\n",
              "            const charts = await google.colab.kernel.invokeFunction(\n",
              "                'suggestCharts', [key], {});\n",
              "          } catch (error) {\n",
              "            console.error('Error during call to suggestCharts:', error);\n",
              "          }\n",
              "          quickchartButtonEl.classList.remove('colab-df-spinner');\n",
              "          quickchartButtonEl.classList.add('colab-df-quickchart-complete');\n",
              "        }\n",
              "        (() => {\n",
              "          let quickchartButtonEl =\n",
              "            document.querySelector('#df-2ee3c1fb-c77a-4e66-bdba-eb613b909d6b button');\n",
              "          quickchartButtonEl.style.display =\n",
              "            google.colab.kernel.accessAllowed ? 'block' : 'none';\n",
              "        })();\n",
              "      </script>\n",
              "    </div>\n",
              "\n",
              "    </div>\n",
              "  </div>\n"
            ],
            "application/vnd.google.colaboratory.intrinsic+json": {
              "type": "dataframe",
              "variable_name": "df"
            }
          },
          "metadata": {},
          "execution_count": 27
        }
      ]
    },
    {
      "cell_type": "markdown",
      "source": [
        "# **Verificação de nulos e análise inicial da estrutura**"
      ],
      "metadata": {
        "id": "hD4cC3O-7-Zk"
      }
    },
    {
      "cell_type": "code",
      "source": [
        "\n",
        "#Verificação de nulos e estrutura geral\n",
        "\n",
        "df.info()\n",
        "\n",
        "#Contar valores nulos por coluna\n",
        "\n",
        "nulos = df.isnull().sum().sort_values(ascending=False)\n",
        "print(\"\\nValores ausentes por coluna:\")\n",
        "display(nulos[nulos > 0])\n",
        "\n",
        "#Conferir valores únicos da coluna alvo\n",
        "\n",
        "print(\"\\nValores únicos na coluna 'CLASS_LABEL':\", df['CLASS_LABEL'].unique())\n",
        "\n",
        "#Conferir distribuição da variável alvo\n",
        "\n",
        "sns.countplot(x='CLASS_LABEL', data=df, palette='Set2')\n",
        "plt.title('Distribuição da Variável Alvo (CLASS_LABEL)')\n",
        "plt.xlabel('Classe')\n",
        "plt.ylabel('Quantidade')\n",
        "plt.show()\n",
        "\n",
        "#Estatística de proporção\n",
        "\n",
        "print(\"Proporção das classes:\")\n",
        "print(df['CLASS_LABEL'].value_counts(normalize=True))\n"
      ],
      "metadata": {
        "colab": {
          "base_uri": "https://localhost:8080/",
          "height": 1000
        },
        "id": "Aw-J120l8AH5",
        "outputId": "552b83db-04f7-4d87-f0a6-896175cc43da"
      },
      "execution_count": null,
      "outputs": [
        {
          "output_type": "stream",
          "name": "stdout",
          "text": [
            "<class 'pandas.core.frame.DataFrame'>\n",
            "RangeIndex: 10000 entries, 0 to 9999\n",
            "Data columns (total 50 columns):\n",
            " #   Column                              Non-Null Count  Dtype  \n",
            "---  ------                              --------------  -----  \n",
            " 0   id                                  10000 non-null  int64  \n",
            " 1   NumDots                             10000 non-null  int64  \n",
            " 2   SubdomainLevel                      10000 non-null  int64  \n",
            " 3   PathLevel                           10000 non-null  int64  \n",
            " 4   UrlLength                           10000 non-null  int64  \n",
            " 5   NumDash                             10000 non-null  int64  \n",
            " 6   NumDashInHostname                   10000 non-null  int64  \n",
            " 7   AtSymbol                            10000 non-null  int64  \n",
            " 8   TildeSymbol                         10000 non-null  int64  \n",
            " 9   NumUnderscore                       10000 non-null  int64  \n",
            " 10  NumPercent                          10000 non-null  int64  \n",
            " 11  NumQueryComponents                  10000 non-null  int64  \n",
            " 12  NumAmpersand                        10000 non-null  int64  \n",
            " 13  NumHash                             10000 non-null  int64  \n",
            " 14  NumNumericChars                     10000 non-null  int64  \n",
            " 15  NoHttps                             10000 non-null  int64  \n",
            " 16  RandomString                        10000 non-null  int64  \n",
            " 17  IpAddress                           10000 non-null  int64  \n",
            " 18  DomainInSubdomains                  10000 non-null  int64  \n",
            " 19  DomainInPaths                       10000 non-null  int64  \n",
            " 20  HttpsInHostname                     10000 non-null  int64  \n",
            " 21  HostnameLength                      10000 non-null  int64  \n",
            " 22  PathLength                          10000 non-null  int64  \n",
            " 23  QueryLength                         10000 non-null  int64  \n",
            " 24  DoubleSlashInPath                   10000 non-null  int64  \n",
            " 25  NumSensitiveWords                   10000 non-null  int64  \n",
            " 26  EmbeddedBrandName                   10000 non-null  int64  \n",
            " 27  PctExtHyperlinks                    10000 non-null  float64\n",
            " 28  PctExtResourceUrls                  10000 non-null  float64\n",
            " 29  ExtFavicon                          10000 non-null  int64  \n",
            " 30  InsecureForms                       10000 non-null  int64  \n",
            " 31  RelativeFormAction                  10000 non-null  int64  \n",
            " 32  ExtFormAction                       10000 non-null  int64  \n",
            " 33  AbnormalFormAction                  10000 non-null  int64  \n",
            " 34  PctNullSelfRedirectHyperlinks       10000 non-null  float64\n",
            " 35  FrequentDomainNameMismatch          10000 non-null  int64  \n",
            " 36  FakeLinkInStatusBar                 10000 non-null  int64  \n",
            " 37  RightClickDisabled                  10000 non-null  int64  \n",
            " 38  PopUpWindow                         10000 non-null  int64  \n",
            " 39  SubmitInfoToEmail                   10000 non-null  int64  \n",
            " 40  IframeOrFrame                       10000 non-null  int64  \n",
            " 41  MissingTitle                        10000 non-null  int64  \n",
            " 42  ImagesOnlyInForm                    10000 non-null  int64  \n",
            " 43  SubdomainLevelRT                    10000 non-null  int64  \n",
            " 44  UrlLengthRT                         10000 non-null  int64  \n",
            " 45  PctExtResourceUrlsRT                10000 non-null  int64  \n",
            " 46  AbnormalExtFormActionR              10000 non-null  int64  \n",
            " 47  ExtMetaScriptLinkRT                 10000 non-null  int64  \n",
            " 48  PctExtNullSelfRedirectHyperlinksRT  10000 non-null  int64  \n",
            " 49  CLASS_LABEL                         10000 non-null  int64  \n",
            "dtypes: float64(3), int64(47)\n",
            "memory usage: 3.8 MB\n",
            "\n",
            "Valores ausentes por coluna:\n"
          ]
        },
        {
          "output_type": "display_data",
          "data": {
            "text/plain": [
              "Series([], dtype: int64)"
            ],
            "text/html": [
              "<div>\n",
              "<style scoped>\n",
              "    .dataframe tbody tr th:only-of-type {\n",
              "        vertical-align: middle;\n",
              "    }\n",
              "\n",
              "    .dataframe tbody tr th {\n",
              "        vertical-align: top;\n",
              "    }\n",
              "\n",
              "    .dataframe thead th {\n",
              "        text-align: right;\n",
              "    }\n",
              "</style>\n",
              "<table border=\"1\" class=\"dataframe\">\n",
              "  <thead>\n",
              "    <tr style=\"text-align: right;\">\n",
              "      <th></th>\n",
              "      <th>0</th>\n",
              "    </tr>\n",
              "  </thead>\n",
              "  <tbody>\n",
              "  </tbody>\n",
              "</table>\n",
              "</div><br><label><b>dtype:</b> int64</label>"
            ]
          },
          "metadata": {}
        },
        {
          "output_type": "stream",
          "name": "stdout",
          "text": [
            "\n",
            "Valores únicos na coluna 'CLASS_LABEL': [1 0]\n"
          ]
        },
        {
          "output_type": "stream",
          "name": "stderr",
          "text": [
            "/tmp/ipython-input-1729678652.py:17: FutureWarning: \n",
            "\n",
            "Passing `palette` without assigning `hue` is deprecated and will be removed in v0.14.0. Assign the `x` variable to `hue` and set `legend=False` for the same effect.\n",
            "\n",
            "  sns.countplot(x='CLASS_LABEL', data=df, palette='Set2')\n"
          ]
        },
        {
          "output_type": "display_data",
          "data": {
            "text/plain": [
              "<Figure size 640x480 with 1 Axes>"
            ],
            "image/png": "[encoded data removed]"
          },
          "metadata": {}
        },
        {
          "output_type": "stream",
          "name": "stdout",
          "text": [
            "Proporção das classes:\n",
            "CLASS_LABEL\n",
            "1    0.5\n",
            "0    0.5\n",
            "Name: proportion, dtype: float64\n"
          ]
        }
      ]
    },
    {
      "cell_type": "markdown",
      "source": [
        "# **Separação em conjutos de treino e teste**\n",
        "\n",
        "Nesta etapa o conjunto de dados será dividido em dados de treino e dados de teste.\n",
        "\n",
        "Para manter a mesma proporção da variável‐alvo em treino e teste será utilizado o parâmetro stratify de train_test_split."
      ],
      "metadata": {
        "id": "dORKAe8iCb8g"
      }
    },
    {
      "cell_type": "code",
      "source": [
        "\n",
        "#Separação entre treino e teste\n",
        "\n",
        "from sklearn.model_selection import train_test_split\n",
        "\n",
        "#Preparar features (X) e alvo (y) / sem a coluna id\n",
        "\n",
        "X = df.drop(columns=['CLASS_LABEL', 'id'])\n",
        "y = df['CLASS_LABEL']\n",
        "\n",
        "#Executar divisão estratificada 70/30, que significa 70% para treino e 30% para teste, para manter proporção das classes\n",
        "\n",
        "X_train, X_test, y_train, y_test = train_test_split(X, y, test_size=0.30, random_state=42, stratify=y)\n",
        "\n",
        "print(\"Tamanho do conjunto de treino:\", X_train.shape)\n",
        "print(\"Tamanho do conjunto de teste :\", X_test.shape)\n",
        "\n",
        "print(\"\\nProporção de classes no treino:\")\n",
        "print(y_train.value_counts(normalize=True).round(3))\n",
        "print(\"Proporção de classes no teste:\")\n",
        "print(y_test.value_counts(normalize=True).round(3))\n",
        "\n",
        "\n",
        "#Padronização das features\n",
        "\n",
        "from sklearn.preprocessing import StandardScaler\n",
        "\n",
        "scaler = StandardScaler()\n",
        "\n",
        "#Ajustar o scaler com os dados de treino\n",
        "\n",
        "X_train_scaled = scaler.fit_transform(X_train)\n",
        "\n",
        "#Aplicar transformação aos dados de teste\n",
        "\n",
        "X_test_scaled = scaler.transform(X_test)\n",
        "\n",
        "#Checagem pós‐transformação\n",
        "\n",
        "print(\"\\nMédia (aprox.) do X_train_scaled:\", np.round(X_train_scaled.mean(), 3))\n",
        "print(\"Desvio‐padrão do X_train_scaled   :\", np.round(X_train_scaled.std(), 3))\n"
      ],
      "metadata": {
        "colab": {
          "base_uri": "https://localhost:8080/"
        },
        "id": "EW5nnS3yDGVq",
        "outputId": "bfe8cd92-4a3b-4f86-9787-a2ddbf4f2f77"
      },
      "execution_count": null,
      "outputs": [
        {
          "output_type": "stream",
          "name": "stdout",
          "text": [
            "Tamanho do conjunto de treino: (7000, 48)\n",
            "Tamanho do conjunto de teste : (3000, 48)\n",
            "\n",
            "Proporção de classes no treino:\n",
            "CLASS_LABEL\n",
            "1    0.5\n",
            "0    0.5\n",
            "Name: proportion, dtype: float64\n",
            "Proporção de classes no teste:\n",
            "CLASS_LABEL\n",
            "1    0.5\n",
            "0    0.5\n",
            "Name: proportion, dtype: float64\n",
            "\n",
            "Média (aprox.) do X_train_scaled: -0.0\n",
            "Desvio‐padrão do X_train_scaled   : 0.99\n"
          ]
        }
      ]
    },
    {
      "cell_type": "markdown",
      "source": [
        "# **3. Modelagem e treinamento dos modelos**\n",
        "\n",
        "Agora que o conjunto de dados já está padronizado e separado entre treino e teste, é possível fazer o treinamento de diferentes modelos clássicos de Machine Learning para comparar seus desempenhos no problema de classificação (phishing vs legítimo).\n",
        "\n",
        "\n",
        "---\n",
        "\n",
        "\n",
        "\n",
        "Serão utilizados os modelos:\n",
        "\n",
        "\n",
        "\n",
        "1.   **Regressão Logística:** modelo linear que estima probabilidades e é eficiente em dados balanceados.\n",
        "2.   **Support Vector Machine (SVM):** modelo que busca o hiperplano ótimo de separação entre classes, sensível à escala.\n",
        "3. **Random Forest:** conjunto de árvores de decisão que combina resultados de múltiplos classificadores, geralmente apresentando boa robustez e interpretabilidade.\n",
        "\n",
        "\n",
        "---\n",
        "\n",
        "\n",
        "\n",
        "Todos os modelos serão avaliados utilizando as mesmas métricas:\n",
        "\n",
        "\n",
        "\n",
        "*   Acurácia (Accuracy): proporção de previsões corretas.\n",
        "*   Matriz de confusão: visualiza erros e acertos entre as classes.\n",
        "*   Relatório de classificação (Precision, Recall, F1-Score): importante para medir desempenho equilibrado entre as classes.\n",
        "\n",
        "Após o treino básico, o melhor modelo será otimizado por meio de ajuste de hiperparâmetros, com validação cruzada."
      ],
      "metadata": {
        "id": "ljG9XCerGC5F"
      }
    },
    {
      "cell_type": "markdown",
      "source": [
        "**Modelagem inicial e avaliação**"
      ],
      "metadata": {
        "id": "OYfn0fFaHRp3"
      }
    },
    {
      "cell_type": "code",
      "source": [
        "#Treinamento dos modelos base\n",
        "\n",
        "from sklearn.linear_model import LogisticRegression\n",
        "from sklearn.svm import SVC\n",
        "from sklearn.ensemble import RandomForestClassifier\n",
        "from sklearn.metrics import accuracy_score, classification_report, confusion_matrix\n",
        "\n",
        "#Criar dicionário com modelos\n",
        "\n",
        "modelos = {\"Regressão Logística\": LogisticRegression(max_iter=1000, random_state=42),\n",
        "    \"SVM\": SVC(kernel='rbf', random_state=42),\n",
        "    \"Random Forest\": RandomForestClassifier(random_state=42)}\n",
        "\n",
        "#Dicionário para armazenar resultados\n",
        "\n",
        "resultados = {}\n",
        "\n",
        "#Treinar e avaliar cada modelo\n",
        "\n",
        "for nome, modelo in modelos.items():\n",
        "    modelo.fit(X_train_scaled, y_train)\n",
        "    y_pred = modelo.predict(X_test_scaled)\n",
        "    acc = accuracy_score(y_test, y_pred)\n",
        "    resultados[nome] = acc\n",
        "    print(f\"\\nModelo: {nome}\")\n",
        "    print(f\"Acurácia: {acc:.4f}\")\n",
        "    print(classification_report(y_test, y_pred))\n",
        "\n",
        "    #Matriz de confusão\n",
        "\n",
        "    cm = confusion_matrix(y_test, y_pred)\n",
        "    sns.heatmap(cm, annot=True, fmt='d', cmap='Blues')\n",
        "    plt.title(f\"Matriz de Confusão – {nome}\")\n",
        "    plt.xlabel(\"Previsto\")\n",
        "    plt.ylabel(\"Real\")\n",
        "    plt.show()\n",
        "\n"
      ],
      "metadata": {
        "colab": {
          "base_uri": "https://localhost:8080/",
          "height": 1000
        },
        "id": "glHfAHi9HVf-",
        "outputId": "f7379c46-114e-46f6-8c57-44ad6d403f52"
      },
      "execution_count": null,
      "outputs": [
        {
          "output_type": "stream",
          "name": "stdout",
          "text": [
            "\n",
            "Modelo: Regressão Logística\n",
            "Acurácia: 0.9517\n",
            "              precision    recall  f1-score   support\n",
            "\n",
            "           0       0.96      0.94      0.95      1500\n",
            "           1       0.95      0.96      0.95      1500\n",
            "\n",
            "    accuracy                           0.95      3000\n",
            "   macro avg       0.95      0.95      0.95      3000\n",
            "weighted avg       0.95      0.95      0.95      3000\n",
            "\n"
          ]
        },
        {
          "output_type": "display_data",
          "data": {
            "text/plain": [
              "<Figure size 640x480 with 2 Axes>"
            ],
            "image/png": "[encoded data removed]"
          },
          "metadata": {}
        },
        {
          "output_type": "stream",
          "name": "stdout",
          "text": [
            "\n",
            "Modelo: SVM\n",
            "Acurácia: 0.9680\n",
            "              precision    recall  f1-score   support\n",
            "\n",
            "           0       0.97      0.96      0.97      1500\n",
            "           1       0.96      0.97      0.97      1500\n",
            "\n",
            "    accuracy                           0.97      3000\n",
            "   macro avg       0.97      0.97      0.97      3000\n",
            "weighted avg       0.97      0.97      0.97      3000\n",
            "\n"
          ]
        },
        {
          "output_type": "display_data",
          "data": {
            "text/plain": [
              "<Figure size 640x480 with 2 Axes>"
            ],
            "image/png": "[encoded data removed]"
          },
          "metadata": {}
        },
        {
          "output_type": "stream",
          "name": "stdout",
          "text": [
            "\n",
            "Modelo: Random Forest\n",
            "Acurácia: 0.9857\n",
            "              precision    recall  f1-score   support\n",
            "\n",
            "           0       0.99      0.99      0.99      1500\n",
            "           1       0.99      0.99      0.99      1500\n",
            "\n",
            "    accuracy                           0.99      3000\n",
            "   macro avg       0.99      0.99      0.99      3000\n",
            "weighted avg       0.99      0.99      0.99      3000\n",
            "\n"
          ]
        },
        {
          "output_type": "display_data",
          "data": {
            "text/plain": [
              "<Figure size 640x480 with 2 Axes>"
            ],
            "image/png": "[encoded data removed]"
          },
          "metadata": {}
        }
      ]
    },
    {
      "cell_type": "markdown",
      "source": [
        "**Comparação entre os modelos gerados**"
      ],
      "metadata": {
        "id": "M2YHZHz-H-TX"
      }
    },
    {
      "cell_type": "code",
      "source": [
        "#Comparação geral\n",
        "\n",
        "plt.bar(resultados.keys(), resultados.values(), color=['#6A5ACD', '#20B2AA', '#FF8C00'])\n",
        "plt.title(\"Comparação de Acurácia entre Modelos\")\n",
        "plt.ylabel(\"Acurácia\")\n",
        "plt.ylim(0.8, 1)\n",
        "plt.show()\n",
        "\n",
        "print(\"\\nResumo das acurácias:\")\n",
        "for nome, acc in resultados.items():\n",
        "    print(f\"{nome}: {acc:.4f}\")"
      ],
      "metadata": {
        "colab": {
          "base_uri": "https://localhost:8080/",
          "height": 540
        },
        "id": "mu_daDc8H8tp",
        "outputId": "2cc12480-c567-49fb-ba0e-27dfd435c20c"
      },
      "execution_count": null,
      "outputs": [
        {
          "output_type": "display_data",
          "data": {
            "text/plain": [
              "<Figure size 640x480 with 1 Axes>"
            ],
            "image/png": "[encoded data removed]"
          },
          "metadata": {}
        },
        {
          "output_type": "stream",
          "name": "stdout",
          "text": [
            "\n",
            "Resumo das acurácias:\n",
            "Regressão Logística: 0.9517\n",
            "SVM: 0.9680\n",
            "Random Forest: 0.9857\n"
          ]
        }
      ]
    },
    {
      "cell_type": "markdown",
      "source": [
        "# **Análise dos resultados**"
      ],
      "metadata": {
        "id": "8HBAAu_idO4X"
      }
    },
    {
      "cell_type": "markdown",
      "source": [
        "**Matrizes de Confusão**\n",
        "\n",
        "\n",
        "\n",
        "*   A Regressão Logística apresentou 83 falsos positivos (legítimos classificados como phishing) e 62 falsos negativos (phishing classificados como legítimos).\n",
        "\n",
        "\n",
        "\n",
        "\n",
        "*   O SVM reduziu consideravelmente ambos os tipos de erro, mostrando-se mais equilibrado.\n",
        "\n",
        "\n",
        "*  O Random Forest praticamente eliminou os erros — apenas 43 previsões incorretas em 3.000 amostras (1,4%), o que é excelente para um problema binário.\n",
        "\n",
        "\n",
        "\n",
        "\n"
      ],
      "metadata": {
        "id": "tLvTtzkrdYEV"
      }
    },
    {
      "cell_type": "markdown",
      "source": [
        "Todos os modelos apresentaram alto desempenho, mas o Random Forest se destacou com uma acurácia de 98,6% e métricas quase perfeitas (Precision = Recall = F1 = 0,99).\n",
        "Isso indica que o modelo está captando muito bem os padrões que diferenciam páginas legítimas de páginas de phishing."
      ],
      "metadata": {
        "id": "Ygv_Mgm-eDoO"
      }
    },
    {
      "cell_type": "markdown",
      "source": [
        "# **Otimização de hiperparâmetros**\n",
        "\n",
        "Nos modelos inciais o melhor resultado foi com o modelo utilizando o método Random Forest, então serão avaliados os seguintes hiperparâmetros:\n",
        "\n",
        "\n",
        "\n",
        "*   **n_estimators:** nº de árvores (mais árvores costuma reduzir variância até certo ponto);\n",
        "*   **max_depth:** profundidade máxima das árvores (controla complexidade);\n",
        "*   **min_samples_split e min_samples_leaf:** nós mínimos para dividir/criar folhas (reduzem overfitting);\n",
        "*  **max_features:** fração de features considerada por split (reduz correlação entre árvores).\n",
        "\n",
        "\n",
        "Será utilizado o GridSearchCV com validação cruzada (cv=5) e métrica principal accuracy (dados balanceados).\n",
        "\n"
      ],
      "metadata": {
        "id": "zAYdadn2el-v"
      }
    },
    {
      "cell_type": "code",
      "source": [
        "#GridSearchCV para Random Forest\n",
        "\n",
        "from sklearn.ensemble import RandomForestClassifier\n",
        "from sklearn.model_selection import GridSearchCV\n",
        "from sklearn.metrics import accuracy_score, classification_report, confusion_matrix\n",
        "\n",
        "# Grade de hiperparâmetros\n",
        "param_grid = {\n",
        "    \"n_estimators\": [200, 400, 600],\n",
        "    \"max_depth\": [None, 10, 20],\n",
        "    \"min_samples_split\": [2, 5, 10],\n",
        "    \"min_samples_leaf\": [1, 2, 4],\n",
        "    \"max_features\": [\"sqrt\", \"log2\"]}"
      ],
      "metadata": {
        "id": "2T1rOatFfalT"
      },
      "execution_count": null,
      "outputs": []
    },
    {
      "cell_type": "markdown",
      "source": [
        "**Configurado o GridSearchCV**\n",
        "\n",
        "Testar várias combinações de hiperparâmetros para encontrar a melhor.\n",
        "\n",
        "*   estimator=rf ➡ indica qual modelo será otimizado (Random Forest).\n",
        "\n",
        "*   param_grid=param_grid ➡ dicionário com as combinações de parâmetros a testar.\n",
        "\n",
        "*   scoring=\"accuracy\" ➡ métrica de avaliação usada para comparar os modelos durante a busca. Como há balanceamento utilizar o accuracy é ideal.\n",
        "\n",
        "*   cv=5 ➡ usa validação cruzada de 5 partes. Divide os dados de treino em 5 subconjuntos: treina em 4 e valida no 5º, repetindo isso 5 vezes.\n",
        "\n",
        "*   n_jobs=-1 ➡ paraleliza o processo.\n",
        "\n",
        "\n",
        "*  verbose=1 ➡ acompanhar progresso do código."
      ],
      "metadata": {
        "id": "cqdR7eIDl6SN"
      }
    },
    {
      "cell_type": "code",
      "source": [
        "#Para consistência será utilizado  X_train_scaled/X_test_scaled\n",
        "\n",
        "rf = RandomForestClassifier(random_state=42, n_jobs=-1)\n",
        "\n",
        "grid = GridSearchCV(estimator=rf, param_grid=param_grid, scoring=\"accuracy\", cv=5, n_jobs=-1, verbose=1)\n",
        "\n",
        "grid.fit(X_train_scaled, y_train)\n",
        "\n",
        "print(\"Melhores hiperparâmetros:\", grid.best_params_)\n",
        "print(\"Melhor score médio (cv=5):\", round(grid.best_score_, 4))"
      ],
      "metadata": {
        "colab": {
          "base_uri": "https://localhost:8080/"
        },
        "id": "B9XThWnclEdW",
        "outputId": "857d7f94-fcb8-46c4-d4c5-15999934b1a9"
      },
      "execution_count": null,
      "outputs": [
        {
          "output_type": "stream",
          "name": "stdout",
          "text": [
            "Fitting 5 folds for each of 162 candidates, totalling 810 fits\n",
            "Melhores hiperparâmetros: {'max_depth': 20, 'max_features': 'log2', 'min_samples_leaf': 1, 'min_samples_split': 2, 'n_estimators': 400}\n",
            "Melhor score médio (cv=5): 0.9809\n"
          ]
        }
      ]
    },
    {
      "cell_type": "markdown",
      "source": [
        "**Pegar a melhor combinação de hiperparâmetros treinados pelo Random Forest que o GridSerachCV encontrou.**"
      ],
      "metadata": {
        "id": "6tFIUFRyzk37"
      }
    },
    {
      "cell_type": "code",
      "source": [
        "#Avaliação no TESTE com o melhor modelo\n",
        "\n",
        "best_rf = grid.best_estimator_\n",
        "y_pred_best = best_rf.predict(X_test_scaled)\n",
        "\n",
        "acc_test = accuracy_score(y_test, y_pred_best)\n",
        "print(\"\\nAcurácia no conjunto de TESTE:\", round(acc_test, 4))\n",
        "print(\"\\nClassification report (melhor Random Forest):\")\n",
        "print(classification_report(y_test, y_pred_best))"
      ],
      "metadata": {
        "colab": {
          "base_uri": "https://localhost:8080/"
        },
        "id": "-ghNggsSm8WV",
        "outputId": "c6cd3ce1-3310-4024-fbb9-f65733a6c5ed"
      },
      "execution_count": null,
      "outputs": [
        {
          "output_type": "stream",
          "name": "stdout",
          "text": [
            "\n",
            "Acurácia no conjunto de TESTE: 0.9853\n",
            "\n",
            "Classification report (melhor Random Forest):\n",
            "              precision    recall  f1-score   support\n",
            "\n",
            "           0       0.99      0.99      0.99      1500\n",
            "           1       0.99      0.99      0.99      1500\n",
            "\n",
            "    accuracy                           0.99      3000\n",
            "   macro avg       0.99      0.99      0.99      3000\n",
            "weighted avg       0.99      0.99      0.99      3000\n",
            "\n"
          ]
        }
      ]
    },
    {
      "cell_type": "code",
      "source": [
        "#Matriz de confusão\n",
        "\n",
        "cm = confusion_matrix(y_test, y_pred_best)\n",
        "sns.heatmap(cm, annot=True, fmt='d', cmap='Blues')\n",
        "plt.title(\"Matriz de Confusão – Random Forest (otimizado)\")\n",
        "plt.xlabel(\"Previsto\")\n",
        "plt.ylabel(\"Real\")\n",
        "plt.show()"
      ],
      "metadata": {
        "colab": {
          "base_uri": "https://localhost:8080/",
          "height": 472
        },
        "id": "ourl_TdrzWcG",
        "outputId": "970f180d-1659-4dc2-be52-731e39b4dfd9"
      },
      "execution_count": null,
      "outputs": [
        {
          "output_type": "display_data",
          "data": {
            "text/plain": [
              "<Figure size 640x480 with 2 Axes>"
            ],
            "image/png": "[encoded data removed]"
          },
          "metadata": {}
        }
      ]
    },
    {
      "cell_type": "markdown",
      "source": [
        "O Random Forest otimizado alcançou desempenho excelente, com acurácia de 98,53% no conjunto de teste e métricas de precisão e recall igualmente altas (0,99).\n",
        "Isso confirma que o modelo está bem ajustado e generaliza perfeitamente, sem sinais de overfitting.\n",
        "\n",
        "A matriz de confusão mostra que o número de falsos positivos e negativos é praticamente igual e extremamente baixo, o que torna o modelo adequado para aplicação prática em sistemas anti-phishing."
      ],
      "metadata": {
        "id": "W3ehIkXD0mfj"
      }
    },
    {
      "cell_type": "code",
      "source": [
        "#Importância de features (apenas 10)\n",
        "\n",
        "importances = pd.Series(best_rf.feature_importances_, index=X.columns).sort_values(ascending=False)\n",
        "top10 = importances.head(10)\n",
        "\n",
        "plt.figure(figsize=(8,6))\n",
        "top10[::-1].plot(kind=\"barh\")  # invertido p/ mostrar do maior no topo\n",
        "plt.title(\"Importância das Variáveis (Top 10) – Random Forest\")\n",
        "plt.xlabel(\"Importância (ganho médio de impureza)\")\n",
        "plt.ylabel(\"Feature\")\n",
        "plt.tight_layout()\n",
        "plt.show()\n",
        "\n",
        "display(top10)"
      ],
      "metadata": {
        "colab": {
          "base_uri": "https://localhost:8080/",
          "height": 988
        },
        "id": "hIJKwUJGy5gp",
        "outputId": "7435d8d7-02cd-4e0d-f9ee-ffc60c25826e"
      },
      "execution_count": null,
      "outputs": [
        {
          "output_type": "display_data",
          "data": {
            "text/plain": [
              "<Figure size 800x600 with 1 Axes>"
            ],
            "image/png": "[encoded data removed]"
          },
          "metadata": {}
        },
        {
          "output_type": "display_data",
          "data": {
            "text/plain": [
              "PctExtHyperlinks                      0.191593\n",
              "PctExtNullSelfRedirectHyperlinksRT    0.146741\n",
              "FrequentDomainNameMismatch            0.081370\n",
              "PctExtResourceUrls                    0.071893\n",
              "PctNullSelfRedirectHyperlinks         0.062796\n",
              "NumDash                               0.044898\n",
              "NumNumericChars                       0.037875\n",
              "ExtMetaScriptLinkRT                   0.037354\n",
              "SubmitInfoToEmail                     0.030745\n",
              "InsecureForms                         0.030105\n",
              "dtype: float64"
            ],
            "text/html": [
              "<div>\n",
              "<style scoped>\n",
              "    .dataframe tbody tr th:only-of-type {\n",
              "        vertical-align: middle;\n",
              "    }\n",
              "\n",
              "    .dataframe tbody tr th {\n",
              "        vertical-align: top;\n",
              "    }\n",
              "\n",
              "    .dataframe thead th {\n",
              "        text-align: right;\n",
              "    }\n",
              "</style>\n",
              "<table border=\"1\" class=\"dataframe\">\n",
              "  <thead>\n",
              "    <tr style=\"text-align: right;\">\n",
              "      <th></th>\n",
              "      <th>0</th>\n",
              "    </tr>\n",
              "  </thead>\n",
              "  <tbody>\n",
              "    <tr>\n",
              "      <th>PctExtHyperlinks</th>\n",
              "      <td>0.191593</td>\n",
              "    </tr>\n",
              "    <tr>\n",
              "      <th>PctExtNullSelfRedirectHyperlinksRT</th>\n",
              "      <td>0.146741</td>\n",
              "    </tr>\n",
              "    <tr>\n",
              "      <th>FrequentDomainNameMismatch</th>\n",
              "      <td>0.081370</td>\n",
              "    </tr>\n",
              "    <tr>\n",
              "      <th>PctExtResourceUrls</th>\n",
              "      <td>0.071893</td>\n",
              "    </tr>\n",
              "    <tr>\n",
              "      <th>PctNullSelfRedirectHyperlinks</th>\n",
              "      <td>0.062796</td>\n",
              "    </tr>\n",
              "    <tr>\n",
              "      <th>NumDash</th>\n",
              "      <td>0.044898</td>\n",
              "    </tr>\n",
              "    <tr>\n",
              "      <th>NumNumericChars</th>\n",
              "      <td>0.037875</td>\n",
              "    </tr>\n",
              "    <tr>\n",
              "      <th>ExtMetaScriptLinkRT</th>\n",
              "      <td>0.037354</td>\n",
              "    </tr>\n",
              "    <tr>\n",
              "      <th>SubmitInfoToEmail</th>\n",
              "      <td>0.030745</td>\n",
              "    </tr>\n",
              "    <tr>\n",
              "      <th>InsecureForms</th>\n",
              "      <td>0.030105</td>\n",
              "    </tr>\n",
              "  </tbody>\n",
              "</table>\n",
              "</div><br><label><b>dtype:</b> float64</label>"
            ]
          },
          "metadata": {}
        }
      ]
    },
    {
      "cell_type": "markdown",
      "source": [
        "# **4. Análise e discussão dos resultados**\n",
        "\n",
        "Foram testados três algoritmos de classificação: Regressão Logística, SVM e Random Forest.\n",
        "\n",
        "Visando identificar páginas phishing e legítimas. A escolha se deu por representarem abordagens distintas e complementares: a Regressão Logística como modelo base, a SVM pela capacidade de lidar com fronteiras complexas e o Random Forest pela robustez e resistência a overfitting.\n",
        "\n",
        "O conjunto de dados foi dividido em 70% para treino e 30% para teste, com classes balanceadas e padronização aplicada para manter consistência entre os modelos.\n",
        "\n",
        "Os resultados iniciais mostraram bom desempenho geral:\n",
        "\n",
        "*   Regressão Logística: 95,17%\n",
        "*   SVM: 96,80%\n",
        "*  Random Forest: 98,57%\n",
        "\n",
        "\n",
        "\n",
        "---\n",
        "\n",
        "\n",
        "O Random Forest se destacou por apresentar o melhor equilíbrio entre precision, recall e f1-score, sem sinais de underfitting ou overfitting.\n",
        "\n",
        "Em seguida, aplicou-se uma otimização de hiperparâmetros via GridSearchCV, com validação cruzada de 5 folds. A melhor combinação encontrada foi:\n",
        "\n",
        "`max_depth=20, max_features='log2', min_samples_leaf=1, min_samples_split=2 e n_estimators=400.`\n",
        "\n",
        "Após o ajuste, o modelo obteve **acurácia de 98,53%** no teste, mantendo resultados praticamente idênticos aos da validação cruzada (98,9%), o que confirma sua estabilidade e generalização. A matriz de confusão mostrou apenas 22 falsos positivos e 22 falsos negativos em 3.000 amostras, reforçando a eficiência do modelo.\n",
        "\n",
        "A análise das variáveis mais relevantes indicou que PctExtHyperlinks e PctExtNullSelfRedirectHyperlinksRT foram as principais responsáveis pela decisão do modelo — ambas relacionadas à presença excessiva de links e redirecionamentos externos, características típicas de páginas phishing.\n",
        "\n",
        "Embora modelos mais complexos como XGBoost ou Gradient Boosting pudessem ser avaliados, o desempenho do Random Forest já se mostrou excelente, tornando desnecessária a adoção de arquiteturas mais custosas.\n",
        "\n",
        "Assim, conclui-se que o Random Forest otimizado foi o modelo mais adequado ao problema, combinando alta acurácia, boa interpretabilidade e baixo risco de sobreajuste, sendo plenamente aplicável para sistemas automáticos de detecção de phishing."
      ],
      "metadata": {
        "id": "PohANgdj1R2t"
      }
    }
  ]
}